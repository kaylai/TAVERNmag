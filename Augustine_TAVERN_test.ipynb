{
 "cells": [
  {
   "cell_type": "markdown",
   "id": "78dfa3f9",
   "metadata": {},
   "source": [
    "Testing new TAVERN library with Augustine data used in original NSF proposal submission.\n",
    "\n",
    "NOTES ON MAGMA PARAMETERS FROM THE LITERATURE\n",
    "\n",
    "AUGUSTINE WEBSTER ET AL., 2010\n",
    "------------------------------------------\n",
    "SAMPLES\n",
    "For the 2006 eruption we refer to the shallow storage as the Low Silica Andesite (LSA), \n",
    "the intermediate storage as High Silica Andesite (HSA) and the deep primitive source is \n",
    "inferred but not well constrained.\n",
    "\n",
    "LOW-SILICA ANDESITE\n",
    "**Shallow Storage**\n",
    "T = 900-970 deg C (970 might be the primitive recharge)\n",
    "fO2 = \n",
    "P = 100-200 MPa (4-8 km)\n",
    "\n",
    "HIGH-SILICA ANDESITE\n",
    "**Intermediate Storage**\n",
    "T = 850-880 deg C\n",
    "fO2 = \n",
    "P = 130-160 MPa\n",
    "\n",
    "DEEP PRIMITIVE MAGMA\n",
    "**Deep Storage**\n",
    "T = 970-? deg C\n",
    "fO2 = \n",
    "P = \n",
    "\n",
    "GENERAL\n",
    "The magmatic fluids were relatively oxidizing and included H2O-enriched \n",
    "S-, S2-, and SO2+/- CO2-bearing vapors; hydrosa-line aqueous \n",
    "liquids largely enriched in Cl-, SO42-, alkalis, and H2O; and moderately \n",
    "saline, H2O-poor liquids containing Cl-, SO42-, and alkali elements.\n",
    "\n",
    "OXYGEN FUGACITY\n",
    "Coexisting iron-titanium\n",
    "oxides of 2006 rock samples, which are generally consistent\n",
    "with those of prior eruptive materials, indicate fO2\n",
    "values of approximately NNO+1.5 to NNO+2.5 and oxide crystalliza-\n",
    "tion temperatures of 835 to 1,052 degC.\n",
    "\n",
    "SULFUR\n",
    "As sulfides are rare and only present in Augustine rocks\n",
    "at abundance levels well below that required to remove\n",
    "significant S from the residual melts and because magma\n",
    "mixing is not solely responsible for the strong reduction in\n",
    "S concentrations with melt evolution, the involvement of\n",
    "a fluid or fluid phases in S sequestration is required."
   ]
  },
  {
   "cell_type": "code",
   "execution_count": 1,
   "id": "a5efa974",
   "metadata": {},
   "outputs": [],
   "source": [
    "import tavern as tv"
   ]
  },
  {
   "cell_type": "markdown",
   "id": "231d89a5",
   "metadata": {},
   "source": [
    "## Define melt compositions"
   ]
  },
  {
   "cell_type": "code",
   "execution_count": 2,
   "id": "66a7e4b9",
   "metadata": {},
   "outputs": [],
   "source": [
    "#Low-silica andesite groundmass from Larsen et al. 2010\n",
    "shallow_melt = tv.SilicateMelt({\t\"SiO2\": 71.16, \n",
    "\t\t\t\t\t\"TiO2\": 0.97, # 06AUMC005c\n",
    "\t\t\t\t\t\"Al2O3\": 13.72,\n",
    "\t\t\t\t\t\"FeO\": 4.03,\n",
    "\t\t\t\t\t\"Fe2O3\": 0.,\n",
    "\t\t\t\t\t\"MnO\": 0.12,\n",
    "\t\t\t\t\t\"MgO\": 0.90,\n",
    "\t\t\t\t\t\"CaO\": 3.13,\n",
    "\t\t\t\t\t\"Na2O\": 3.37,\n",
    "\t\t\t\t\t\"K2O\": 2.06,\n",
    "\t\t\t\t\t\"P2O5\": 0.23,\n",
    "\t\t\t\t\t\"H2O\": 2.00, #TODO need better vals\n",
    "\t\t\t\t\t\"CO2\": 0.002,\n",
    "\t\t\t\t\t\"S\": 0.02\n",
    "\t\t\t\t\t})\n",
    "\n",
    "\n",
    "#high-silica andesite\n",
    "#HSA matrix glass from Larsen et al. 2010\n",
    "int_melt = tv.SilicateMelt({\t\"SiO2\": 75.86, #Values in wt% \n",
    "\t\t\t\t\t\"TiO2\": 0.44, \n",
    "\t\t\t\t\t\"Al2O3\": 12.81,\n",
    "\t\t\t\t\t\"FeO\": 2.08, \n",
    "\t\t\t\t\t\"Fe2O3\": 0.,\n",
    "\t\t\t\t\t\"MnO\": 0.08,\n",
    "\t\t\t\t\t\"MgO\": 0.41,\n",
    "\t\t\t\t\t\"CaO\": 2.09,\n",
    "\t\t\t\t\t\"Na2O\": 3.78,\n",
    "\t\t\t\t\t\"K2O\": 0.99,\n",
    "\t\t\t\t\t\"P2O5\": 0.14,\n",
    "\t\t\t\t\t\"H2O\": 4.10, #Highest reported evolved augustine MI in Webster et al 2010\n",
    "\t\t\t\t\t\"CO2\": 0.011, #Highest reported evolved augustine MI in Webster et al 2010\n",
    "\t\t\t\t\t\"S\": 0.02\n",
    "\t\t\t\t\t})\n",
    "\n",
    "\n",
    "#primitive mafic recharge\n",
    "deep_melt = tv.SilicateMelt({\t\"SiO2\": 54.92, #Values in wt% #Augustine basalt sample from Webster et al 2010 (cpx-hosted MI)\n",
    "\t\t\t\t\t\"TiO2\": 0.62, #RB-W91A137 cpx MI\n",
    "\t\t\t\t\t\"Al2O3\": 14.62,\n",
    "\t\t\t\t\t\"FeO\": 6.86, \n",
    "\t\t\t\t\t\"Fe2O3\": 0.,\n",
    "\t\t\t\t\t\"MnO\": 0.16,\n",
    "\t\t\t\t\t\"MgO\": 5.89,\n",
    "\t\t\t\t\t\"CaO\": 10.33,\n",
    "\t\t\t\t\t\"Na2O\": 2.04,\n",
    "\t\t\t\t\t\"K2O\": 0.61,\n",
    "\t\t\t\t\t\"P2O5\": 0.15,\n",
    "\t\t\t\t\t\"H2O\": 4.00, #Water by difference from reheated MI, max value\n",
    "\t\t\t\t\t\"CO2\": 0.02, #TODO... this is a WAG\n",
    "\t\t\t\t\t\"S\": 0.23\n",
    "\t\t\t\t\t})"
   ]
  },
  {
   "cell_type": "markdown",
   "id": "36f3a76e",
   "metadata": {},
   "source": [
    "## Define magma conditions"
   ]
  },
  {
   "cell_type": "code",
   "execution_count": 3,
   "id": "d0b64211",
   "metadata": {},
   "outputs": [],
   "source": [
    "#SHALLOW\n",
    "shallow_XCO2 = 0.10\n",
    "shallow_temp = 900.0\n",
    "shallow_press = 1000.0\n",
    "shallow_fO2_buffer = 'QFM'\n",
    "shallow_fO2_delta = 1.0\n",
    "\n",
    "#INT\n",
    "int_XCO2 = 0.10\n",
    "int_temp = 850.0\n",
    "int_press = 1500.0\n",
    "int_fO2_buffer = 'QFM'\n",
    "int_fO2_delta = 1.0\n",
    "\n",
    "#DEEP\n",
    "deep_XCO2 = 0.10\n",
    "deep_temp = 970.0\n",
    "deep_press = 3000.0\n",
    "deep_fO2_buffer = 'QFM'\n",
    "deep_fO2_delta = 1.0"
   ]
  },
  {
   "cell_type": "markdown",
   "id": "cedbfc74",
   "metadata": {},
   "source": [
    "## Define surface gas composition"
   ]
  },
  {
   "cell_type": "code",
   "execution_count": 4,
   "id": "c5444c65",
   "metadata": {},
   "outputs": [],
   "source": [
    "surface_gas = tv.MagmaticFluid({\"H2O\": 94.08,\n",
    "                                \"CO2\": 3.36,\n",
    "                                \"SO2\": 3.34},\n",
    "                               units=\"molpercent\")"
   ]
  },
  {
   "cell_type": "markdown",
   "id": "5fdf6f14",
   "metadata": {},
   "source": [
    "## Calculate equilibrium fluids"
   ]
  },
  {
   "cell_type": "code",
   "execution_count": 5,
   "id": "97c88f79",
   "metadata": {},
   "outputs": [],
   "source": [
    "# First get fH2O from Moore model\n",
    "shallow_fH2O = tv.calculate_fH2O_from_melt(sample=shallow_melt,\n",
    "                                           pressure=shallow_press,\n",
    "                                           temperature=shallow_temp).result\n",
    "\n",
    "int_fH2O = tv.calculate_fH2O_from_melt(sample=int_melt,\n",
    "                                       pressure=int_press,\n",
    "                                       temperature=int_temp).result\n",
    "\n",
    "deep_fH2O = tv.calculate_fH2O_from_melt(sample=deep_melt,\n",
    "                                        pressure=deep_press,\n",
    "                                        temperature=deep_temp).result"
   ]
  },
  {
   "cell_type": "code",
   "execution_count": 6,
   "id": "71dd9032",
   "metadata": {},
   "outputs": [],
   "source": [
    "# Second create model objects\n",
    "shallow_mod = tv.Model(pressure=shallow_press, temperature=shallow_temp, fO2_buffer=shallow_fO2_buffer,\n",
    "                       fO2_delta=shallow_fO2_delta, H2O_param=shallow_fH2O, H2O_param_type='fugacity',\n",
    "                       SC_param=shallow_XCO2, SC_param_type='CO2molfrac')\n",
    "\n",
    "int_mod = tv.Model(pressure=int_press, temperature=int_temp, fO2_buffer=int_fO2_buffer,\n",
    "                       fO2_delta=int_fO2_delta, H2O_param=int_fH2O, H2O_param_type='fugacity',\n",
    "                       SC_param=int_XCO2, SC_param_type='CO2molfrac')\n",
    "\n",
    "deep_mod = tv.Model(pressure=deep_press, temperature=deep_temp, fO2_buffer=deep_fO2_buffer,\n",
    "                       fO2_delta=deep_fO2_delta, H2O_param=deep_fH2O, H2O_param_type='fugacity',\n",
    "                       SC_param=deep_XCO2, SC_param_type='CO2molfrac')"
   ]
  },
  {
   "cell_type": "code",
   "execution_count": 7,
   "id": "881e9159",
   "metadata": {},
   "outputs": [
    {
     "name": "stdout",
     "output_type": "stream",
     "text": [
      "Calculated pressure error is -7.95807864051312e-13 bars\n",
      "Calculated pressure error is 6.82121026329696e-13 bars\n"
     ]
    }
   ],
   "source": [
    "# Third calculate equilibrium fluid on Model objects\n",
    "shallow_eq_fluid = shallow_mod.equilibrium_fluid()\n",
    "int_eq_fluid = int_mod.equilibrium_fluid()\n",
    "deep_eq_fluid = deep_mod.equilibrium_fluid()"
   ]
  },
  {
   "cell_type": "code",
   "execution_count": 8,
   "id": "3e077e25",
   "metadata": {},
   "outputs": [],
   "source": [
    "# Fourth, respeciate all calculated fluids at 1 bar for input into mixing model\n",
    "shallow_eq_lowP = shallow_mod.respeciate(shallow_eq_fluid, pressure=1)\n",
    "int_eq_lowP = int_mod.respeciate(int_eq_fluid, pressure=1)\n",
    "deep_eq_lowP = deep_mod.respeciate(deep_eq_fluid, pressure=1)"
   ]
  },
  {
   "cell_type": "markdown",
   "id": "159ba03b",
   "metadata": {},
   "source": [
    "## Calculate degassed fluids"
   ]
  },
  {
   "cell_type": "code",
   "execution_count": 9,
   "id": "947b3116",
   "metadata": {},
   "outputs": [],
   "source": [
    "# First get dissolved volatile composition of all three magmas\n",
    "shallow_melt_volatiles = shallow_melt.get_dissolved_volatile_composition()\n",
    "int_melt_volatiles = int_melt.get_dissolved_volatile_composition()\n",
    "deep_melt_volatiles = deep_melt.get_dissolved_volatile_composition()\n",
    "\n",
    "# also create a completely degassed sample with values of 0, 0, 0\n",
    "zero_volatiles = tv.MagmaticFluid({\"H2O\": 0.0, \"CO2\": 0.0, \"S\": 0.0})"
   ]
  },
  {
   "cell_type": "code",
   "execution_count": 10,
   "id": "566bfae1",
   "metadata": {},
   "outputs": [],
   "source": [
    "# Second calculate degassed fluid compositions\n",
    "shallow_degassing = tv.calculate_degassed_fluid_composition(deep_volatiles=shallow_melt_volatiles,\n",
    "                                                            shallow_volatiles=zero_volatiles).result\n",
    "\n",
    "int_degassing = tv.calculate_degassed_fluid_composition(deep_volatiles=int_melt_volatiles,\n",
    "                                                        shallow_volatiles=shallow_melt_volatiles).result\n",
    "\n",
    "deep_degassing = tv.calculate_degassed_fluid_composition(deep_volatiles=deep_melt_volatiles,\n",
    "                                                         shallow_volatiles=zero_volatiles).result"
   ]
  },
  {
   "cell_type": "code",
   "execution_count": 11,
   "id": "86461145",
   "metadata": {},
   "outputs": [
    {
     "name": "stdout",
     "output_type": "stream",
     "text": [
      "CO     2.652101e-04\n",
      "CO2    9.425457e-02\n",
      "H2     5.915201e-02\n",
      "H2O    9.427193e+01\n",
      "H2S    1.223065e-01\n",
      "S2     5.410031e-03\n",
      "SO2    5.446686e+00\n",
      "O2     3.770711e-10\n",
      "dtype: float64\n",
      "CO     1.043332e-03\n",
      "CO2    4.264416e-01\n",
      "H2     5.914759e-02\n",
      "H2O    9.951337e+01\n",
      "H2S    0.000000e+00\n",
      "S2     0.000000e+00\n",
      "SO2    0.000000e+00\n",
      "O2     4.373093e-11\n",
      "dtype: float64\n",
      "CO     1.273384e-03\n",
      "CO2    3.695857e-01\n",
      "H2     4.749935e-02\n",
      "H2O    7.403451e+01\n",
      "H2S    1.630636e-01\n",
      "S2     3.803031e-02\n",
      "SO2    2.534604e+01\n",
      "O2     5.124943e-09\n",
      "dtype: float64\n"
     ]
    }
   ],
   "source": [
    "# Third speciate fluid compositions at 1 bar and conditions of each magma body\n",
    "shallow_degassing = tv.calculate_speciation(sample=shallow_degassing, pressure=1, temperature=shallow_temp,\n",
    "                        fO2_buffer=shallow_fO2_buffer, fO2_delta=shallow_fO2_delta).result\n",
    "\n",
    "int_degassing = tv.calculate_speciation(sample=int_degassing, pressure=1, temperature=int_temp,\n",
    "                        fO2_buffer=int_fO2_buffer, fO2_delta=int_fO2_delta, opt='leastsq').result\n",
    "\n",
    "deep_degassing = tv.calculate_speciation(sample=deep_degassing, pressure=1, temperature=deep_temp,\n",
    "                        fO2_buffer=deep_fO2_buffer, fO2_delta=deep_fO2_delta).result\n",
    "\n",
    "print(shallow_degassing.get_composition())\n",
    "print(int_degassing.get_composition())\n",
    "print(deep_degassing.get_composition())"
   ]
  },
  {
   "cell_type": "markdown",
   "id": "68f5ec6d",
   "metadata": {},
   "source": [
    "## Do the matching model"
   ]
  },
  {
   "cell_type": "code",
   "execution_count": 12,
   "id": "3db990e7",
   "metadata": {},
   "outputs": [
    {
     "name": "stdout",
     "output_type": "stream",
     "text": [
      "Generating all possible gas combinations...\n"
     ]
    },
    {
     "ename": "FileNotFoundError",
     "evalue": "[Errno 2] No such file or directory: 'sums_6_100_1.p'",
     "output_type": "error",
     "traceback": [
      "\u001b[0;31m---------------------------------------------------------------------------\u001b[0m",
      "\u001b[0;31mFileNotFoundError\u001b[0m                         Traceback (most recent call last)",
      "\u001b[0;32m/var/folders/r3/675zftxx1r794r3v5mst_hzm0000gp/T/ipykernel_25261/3346090139.py\u001b[0m in \u001b[0;36m<module>\u001b[0;34m\u001b[0m\n\u001b[0;32m----> 1\u001b[0;31m tv.match(sub_gases={\"Shallow Degassing\": shallow_degassing,\n\u001b[0m\u001b[1;32m      2\u001b[0m                     \u001b[0;34m\"Shallow EQ Fluid\"\u001b[0m\u001b[0;34m:\u001b[0m \u001b[0mshallow_eq_lowP\u001b[0m\u001b[0;34m,\u001b[0m\u001b[0;34m\u001b[0m\u001b[0;34m\u001b[0m\u001b[0m\n\u001b[1;32m      3\u001b[0m                     \u001b[0;34m\"Int Degassing\"\u001b[0m\u001b[0;34m:\u001b[0m \u001b[0mint_degassing\u001b[0m\u001b[0;34m,\u001b[0m\u001b[0;34m\u001b[0m\u001b[0;34m\u001b[0m\u001b[0m\n\u001b[1;32m      4\u001b[0m                     \u001b[0;34m\"Int EQ Fluid\"\u001b[0m\u001b[0;34m:\u001b[0m \u001b[0mint_eq_lowP\u001b[0m\u001b[0;34m,\u001b[0m\u001b[0;34m\u001b[0m\u001b[0;34m\u001b[0m\u001b[0m\n\u001b[1;32m      5\u001b[0m                     \u001b[0;34m\"Deep Degassing\"\u001b[0m\u001b[0;34m:\u001b[0m \u001b[0mdeep_degassing\u001b[0m\u001b[0;34m,\u001b[0m\u001b[0;34m\u001b[0m\u001b[0;34m\u001b[0m\u001b[0m\n",
      "\u001b[0;32m~/Dropbox/Research/__Python/TAVERN/tavern/calculate_classes.py\u001b[0m in \u001b[0;36m__init__\u001b[0;34m(self, **kwargs)\u001b[0m\n\u001b[1;32m     23\u001b[0m             \u001b[0mThe\u001b[0m \u001b[0mcomposition\u001b[0m \u001b[0mof\u001b[0m \u001b[0ma\u001b[0m \u001b[0mmagmatic\u001b[0m \u001b[0mfluid\u001b[0m \u001b[0;32mor\u001b[0m \u001b[0msilicate\u001b[0m \u001b[0mmelt\u001b[0m \u001b[0;32mas\u001b[0m \u001b[0ma\u001b[0m \u001b[0mtavern\u001b[0m \u001b[0;32mclass\u001b[0m\u001b[0;34m.\u001b[0m\u001b[0;34m\u001b[0m\u001b[0;34m\u001b[0m\u001b[0m\n\u001b[1;32m     24\u001b[0m         \"\"\"\n\u001b[0;32m---> 25\u001b[0;31m         \u001b[0mself\u001b[0m\u001b[0;34m.\u001b[0m\u001b[0mresult\u001b[0m \u001b[0;34m=\u001b[0m \u001b[0mself\u001b[0m\u001b[0;34m.\u001b[0m\u001b[0mcalculate\u001b[0m\u001b[0;34m(\u001b[0m\u001b[0;34m**\u001b[0m\u001b[0mkwargs\u001b[0m\u001b[0;34m)\u001b[0m\u001b[0;34m\u001b[0m\u001b[0;34m\u001b[0m\u001b[0m\n\u001b[0m\u001b[1;32m     26\u001b[0m \u001b[0;34m\u001b[0m\u001b[0m\n\u001b[1;32m     27\u001b[0m     \u001b[0;34m@\u001b[0m\u001b[0mabstractmethod\u001b[0m\u001b[0;34m\u001b[0m\u001b[0;34m\u001b[0m\u001b[0m\n",
      "\u001b[0;32m~/Dropbox/Research/__Python/TAVERN/tavern/calculate_classes.py\u001b[0m in \u001b[0;36mcalculate\u001b[0;34m(self, sub_gases, surface_gas, threshold, **kwargs)\u001b[0m\n\u001b[1;32m   1013\u001b[0m             \u001b[0mpos\u001b[0m \u001b[0;34m=\u001b[0m \u001b[0mlist\u001b[0m\u001b[0;34m(\u001b[0m\u001b[0mself\u001b[0m\u001b[0;34m.\u001b[0m\u001b[0msums\u001b[0m\u001b[0;34m(\u001b[0m\u001b[0mnumber_of_subgases\u001b[0m\u001b[0;34m,\u001b[0m \u001b[0;36m100\u001b[0m\u001b[0;34m,\u001b[0m \u001b[0;36m1\u001b[0m\u001b[0;34m)\u001b[0m\u001b[0;34m)\u001b[0m\u001b[0;34m\u001b[0m\u001b[0;34m\u001b[0m\u001b[0m\n\u001b[1;32m   1014\u001b[0m         \u001b[0;32melif\u001b[0m \u001b[0mnumber_of_subgases\u001b[0m \u001b[0;34m==\u001b[0m \u001b[0;36m6\u001b[0m\u001b[0;34m:\u001b[0m\u001b[0;34m\u001b[0m\u001b[0;34m\u001b[0m\u001b[0m\n\u001b[0;32m-> 1015\u001b[0;31m             \u001b[0mpos\u001b[0m \u001b[0;34m=\u001b[0m \u001b[0msums\u001b[0m\u001b[0;34m.\u001b[0m\u001b[0msums_6_100_1\u001b[0m\u001b[0;34m(\u001b[0m\u001b[0;34m)\u001b[0m\u001b[0;34m\u001b[0m\u001b[0;34m\u001b[0m\u001b[0m\n\u001b[0m\u001b[1;32m   1016\u001b[0m         \u001b[0;32melif\u001b[0m \u001b[0mnumber_of_subgases\u001b[0m \u001b[0;34m==\u001b[0m \u001b[0;36m7\u001b[0m\u001b[0;34m:\u001b[0m\u001b[0;34m\u001b[0m\u001b[0;34m\u001b[0m\u001b[0m\n\u001b[1;32m   1017\u001b[0m             \u001b[0mpos\u001b[0m \u001b[0;34m=\u001b[0m \u001b[0msums\u001b[0m\u001b[0;34m.\u001b[0m\u001b[0msums_7_100_1\u001b[0m\u001b[0;34m(\u001b[0m\u001b[0;34m)\u001b[0m\u001b[0;34m\u001b[0m\u001b[0;34m\u001b[0m\u001b[0m\n",
      "\u001b[0;32m~/Dropbox/Research/__Python/TAVERN/tavern/sums/__init__.py\u001b[0m in \u001b[0;36msums_6_100_1\u001b[0;34m()\u001b[0m\n\u001b[1;32m      2\u001b[0m \u001b[0;34m\u001b[0m\u001b[0m\n\u001b[1;32m      3\u001b[0m \u001b[0;32mdef\u001b[0m \u001b[0msums_6_100_1\u001b[0m\u001b[0;34m(\u001b[0m\u001b[0;34m)\u001b[0m\u001b[0;34m:\u001b[0m\u001b[0;34m\u001b[0m\u001b[0;34m\u001b[0m\u001b[0m\n\u001b[0;32m----> 4\u001b[0;31m         \u001b[0mpos\u001b[0m \u001b[0;34m=\u001b[0m \u001b[0mpickle\u001b[0m\u001b[0;34m.\u001b[0m\u001b[0mload\u001b[0m\u001b[0;34m(\u001b[0m\u001b[0mopen\u001b[0m\u001b[0;34m(\u001b[0m\u001b[0;34m\"sums_6_100_1.p\"\u001b[0m\u001b[0;34m,\u001b[0m \u001b[0;34m\"rb\"\u001b[0m\u001b[0;34m)\u001b[0m\u001b[0;34m)\u001b[0m\u001b[0;34m\u001b[0m\u001b[0;34m\u001b[0m\u001b[0m\n\u001b[0m\u001b[1;32m      5\u001b[0m         \u001b[0;32mreturn\u001b[0m \u001b[0mpos\u001b[0m\u001b[0;34m\u001b[0m\u001b[0;34m\u001b[0m\u001b[0m\n\u001b[1;32m      6\u001b[0m \u001b[0;34m\u001b[0m\u001b[0m\n",
      "\u001b[0;31mFileNotFoundError\u001b[0m: [Errno 2] No such file or directory: 'sums_6_100_1.p'"
     ]
    }
   ],
   "source": [
    "tv.match(sub_gases={\"Shallow Degassing\": shallow_degassing,\n",
    "                    \"Shallow EQ Fluid\": shallow_eq_lowP,\n",
    "                    \"Int Degassing\": int_degassing,\n",
    "                    \"Int EQ Fluid\": int_eq_lowP,\n",
    "                    \"Deep Degassing\": deep_degassing,\n",
    "                    \"Deep EQ Fluid\": deep_eq_lowP},\n",
    "        surface_gas=surface_gas).result"
   ]
  }
 ],
 "metadata": {
  "kernelspec": {
   "display_name": "Python 3 (ipykernel)",
   "language": "python",
   "name": "python3"
  },
  "language_info": {
   "codemirror_mode": {
    "name": "ipython",
    "version": 3
   },
   "file_extension": ".py",
   "mimetype": "text/x-python",
   "name": "python",
   "nbconvert_exporter": "python",
   "pygments_lexer": "ipython3",
   "version": "3.9.7"
  }
 },
 "nbformat": 4,
 "nbformat_minor": 5
}

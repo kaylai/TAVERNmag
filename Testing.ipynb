{
 "cells": [
  {
   "cell_type": "code",
   "execution_count": 1,
   "id": "a2f24f11",
   "metadata": {},
   "outputs": [],
   "source": [
    "import tavern as tv"
   ]
  },
  {
   "cell_type": "code",
   "execution_count": 2,
   "id": "666e12c0",
   "metadata": {},
   "outputs": [],
   "source": [
    "myfluid = tv.MagmaticFluid(composition={'H2O':47, 'CO2': 35, 'S': 16}, default_units='wtpercent')"
   ]
  },
  {
   "cell_type": "code",
   "execution_count": 3,
   "id": "baee97a9",
   "metadata": {},
   "outputs": [
    {
     "data": {
      "text/plain": [
       "H2O    0.668410\n",
       "CO2    0.203749\n",
       "S      0.127840\n",
       "dtype: float64"
      ]
     },
     "execution_count": 3,
     "metadata": {},
     "output_type": "execute_result"
    }
   ],
   "source": [
    "myfluid.get_composition(units='molfrac')"
   ]
  },
  {
   "cell_type": "code",
   "execution_count": 4,
   "id": "38affc2f",
   "metadata": {},
   "outputs": [],
   "source": [
    "myfluid.set_default_units('wtpercent')"
   ]
  },
  {
   "cell_type": "code",
   "execution_count": 5,
   "id": "5340b7c5",
   "metadata": {},
   "outputs": [
    {
     "data": {
      "text/plain": [
       "'wtpercent'"
      ]
     },
     "execution_count": 5,
     "metadata": {},
     "output_type": "execute_result"
    }
   ],
   "source": [
    "myfluid.default_units"
   ]
  },
  {
   "cell_type": "code",
   "execution_count": 6,
   "id": "f67ca9c7",
   "metadata": {},
   "outputs": [
    {
     "data": {
      "text/plain": [
       "{'CO': 1.80145239317289,\n",
       " 'CO2': 237.191939935999,\n",
       " 'H2': 2.229659096489615,\n",
       " 'H2O': 432.4544974191211,\n",
       " 'H2S': 209.3451836830073,\n",
       " 'O2': 1.286291018879933e-10,\n",
       " 'S2': 46.80020391215799,\n",
       " 'SO2': 86.71858081015567}"
      ]
     },
     "execution_count": 6,
     "metadata": {},
     "output_type": "execute_result"
    }
   ],
   "source": [
    "fugs = tv.calculate_fugacities(sample=myfluid, pressure=1000, temperature=1000, fO2_buffer='QFM', fO2_delta=1).result\n",
    "fugs"
   ]
  },
  {
   "cell_type": "code",
   "execution_count": 7,
   "id": "ac51d187",
   "metadata": {
    "scrolled": true
   },
   "outputs": [
    {
     "data": {
      "text/plain": [
       "{'CO': 1.2557199322943073,\n",
       " 'CO2': 1.1766812493927399,\n",
       " 'H2': 1.1871749799085225,\n",
       " 'H2O': 0.9013716131009993,\n",
       " 'H2S': 1.1270119924703847,\n",
       " 'O2': 1.1900211579833693,\n",
       " 'S2': 1.1551947347375644,\n",
       " 'SO2': 1.137584896298915}"
      ]
     },
     "execution_count": 7,
     "metadata": {},
     "output_type": "execute_result"
    }
   ],
   "source": [
    "tv.calculate_fugacity_coefficients(temperature=1000, pressure=1000).result"
   ]
  },
  {
   "cell_type": "code",
   "execution_count": 8,
   "id": "e0f11363",
   "metadata": {},
   "outputs": [
    {
     "data": {
      "text/plain": [
       "{'CO': 0.09152902638182871,\n",
       " 'CO2': 28.286174428910577,\n",
       " 'H2': 0.012072466579266881,\n",
       " 'H2O': 27.558308671470208,\n",
       " 'H2S': 20.196242084765167,\n",
       " 'S2': 8.283913148385754,\n",
       " 'SO2': 15.571760173496312,\n",
       " 'O2': 1.0886201190274174e-11}"
      ]
     },
     "execution_count": 8,
     "metadata": {},
     "output_type": "execute_result"
    }
   ],
   "source": [
    "specs = tv.calculate_speciation(sample=myfluid, pressure=1000, temperature=1000, fO2_buffer='QFM', fO2_delta=1).result\n",
    "specs"
   ]
  },
  {
   "cell_type": "code",
   "execution_count": 9,
   "id": "3d6e57c3",
   "metadata": {},
   "outputs": [
    {
     "data": {
      "text/plain": [
       "99.99999999999999"
      ]
     },
     "execution_count": 9,
     "metadata": {},
     "output_type": "execute_result"
    }
   ],
   "source": [
    "sum(specs.values())"
   ]
  },
  {
   "cell_type": "code",
   "execution_count": 10,
   "id": "0fd191ba",
   "metadata": {},
   "outputs": [],
   "source": [
    "import pandas as pd\n",
    "majors_molpercent = pd.Series({'H2O':    66.841024,\n",
    "                                            'CO2':    20.374933,\n",
    "                                            'S':      12.784044,\n",
    "                                           })\n",
    "sample_unitsMolPercent = tv.MagmaticFluid(majors_molpercent, units='molpercent')"
   ]
  },
  {
   "cell_type": "code",
   "execution_count": 11,
   "id": "acfee80f",
   "metadata": {},
   "outputs": [
    {
     "data": {
      "text/plain": [
       "H2O    66.841023\n",
       "CO2    20.374933\n",
       "S      12.784044\n",
       "dtype: float64"
      ]
     },
     "execution_count": 11,
     "metadata": {},
     "output_type": "execute_result"
    }
   ],
   "source": [
    "sample_unitsMolPercent.get_composition(units='molpercent')"
   ]
  },
  {
   "cell_type": "code",
   "execution_count": 12,
   "id": "d7744cd4",
   "metadata": {},
   "outputs": [
    {
     "data": {
      "text/plain": [
       "H2O    47.959183\n",
       "CO2    35.714286\n",
       "S      16.326531\n",
       "dtype: float64"
      ]
     },
     "execution_count": 12,
     "metadata": {},
     "output_type": "execute_result"
    }
   ],
   "source": [
    "sample_unitsMolPercent._composition"
   ]
  },
  {
   "cell_type": "code",
   "execution_count": null,
   "id": "4801f43a",
   "metadata": {},
   "outputs": [],
   "source": []
  }
 ],
 "metadata": {
  "kernelspec": {
   "display_name": "Python 3 (ipykernel)",
   "language": "python",
   "name": "python3"
  },
  "language_info": {
   "codemirror_mode": {
    "name": "ipython",
    "version": 3
   },
   "file_extension": ".py",
   "mimetype": "text/x-python",
   "name": "python",
   "nbconvert_exporter": "python",
   "pygments_lexer": "ipython3",
   "version": "3.9.7"
  }
 },
 "nbformat": 4,
 "nbformat_minor": 5
}

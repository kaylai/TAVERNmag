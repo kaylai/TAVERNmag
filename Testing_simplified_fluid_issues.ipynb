{
 "cells": [
  {
   "cell_type": "code",
   "execution_count": 1,
   "id": "2417b086",
   "metadata": {},
   "outputs": [],
   "source": [
    "import tavern as tv"
   ]
  },
  {
   "cell_type": "code",
   "execution_count": null,
   "id": "2ddbee42",
   "metadata": {},
   "outputs": [],
   "source": []
  },
  {
   "cell_type": "code",
   "execution_count": 2,
   "id": "00b62ecc",
   "metadata": {},
   "outputs": [
    {
     "name": "stdout",
     "output_type": "stream",
     "text": [
      "S_tot input: 0.03808524856648267\n",
      "S_tot after speciation: 0.03808524258993409\n",
      "\n",
      "\n",
      "CO2_tot input: 0.06937079614202833\n",
      "CO2_tot after speciation: 0.06937083213296716\n",
      "\n",
      "\n",
      "H2O_tot input: 0.8925439552914891\n",
      "H2O_tot after speciation: 0.8925439252770989\n",
      "\n",
      "\n",
      "Input total: 1.0000000000000002\n",
      "Total after speciation: 1.0000000000000002\n"
     ]
    }
   ],
   "source": [
    "# THIS WORKS!\n",
    "# create a MagmaticFluid object with a simple gas composition\n",
    "myfluid = tv.MagmaticFluid(composition={'H2O':79, 'CO2': 15, 'S': 6}, units='wtpercent', default_units='wtpercent')\n",
    "\n",
    "# speciate given P, T, fO2 conditions\n",
    "specs = tv.calculate_speciation(sample=myfluid, pressure=1000, temperature=1000, fO2_buffer='QFM', fO2_delta=1).result\n",
    "\n",
    "# in molfraction space -- duplicating what works in calculate_fugacities()\n",
    "composition_molfrac = specs.get_composition(units='molfrac')\n",
    "\n",
    "# first get H, S, C tots\n",
    "XHtot = (composition_molfrac[\"H2\"] + composition_molfrac[\"H2O\"]*0.6666 +\n",
    "         composition_molfrac[\"H2S\"]*0.6666)\n",
    "XStot = (composition_molfrac[\"S2\"] + composition_molfrac[\"H2S\"]*0.3333 +\n",
    "         composition_molfrac[\"SO2\"]*0.3333)\n",
    "XCtot = (composition_molfrac[\"CO2\"]*0.3333 + composition_molfrac[\"CO\"]*0.5)\n",
    "# XOtot = (composition_molfrac[\"H2O\"] * 0.3333 + composition_molfrac[\"SO2\"] * 0.6666 +\n",
    "#          composition_molfrac[\"CO2\"] * 0.6666 + composition_molfrac[\"CO\"] * 0.5)\n",
    "\n",
    "# # normalize H, S, C tots\n",
    "# HCS_tots = tv.MagmaticFluid({\"H\": XHtot,\n",
    "#                              \"S\": XStot,\n",
    "#                              \"C\": XCtot,\n",
    "#                              \"O\": XOtot},\n",
    "#                              units='molfrac',\n",
    "#                              normalization='standard')\n",
    "\n",
    "# # then get H2O and CO2 and test returning H2O, CO2, S to match input in myfluid object\n",
    "# XH2Otot = HCS_tots.get_composition(species=\"H\", units='molfrac') * 0.5\n",
    "# XCO2tot = HCS_tots.get_composition(species=\"C\", units='molfrac')\n",
    "\n",
    "XH2Otot = XHtot * 0.5\n",
    "XCO2tot = XCtot\n",
    "\n",
    "final = tv.MagmaticFluid({\"H2O\": XH2Otot,\n",
    "                          \"CO2\": XCO2tot,\n",
    "                          \"S\": XStot},\n",
    "                          units='molfrac',\n",
    "                          normalization='standard')\n",
    "\n",
    "print(\"S_tot input: \" + str(myfluid.get_composition(species=\"S\", units='molfrac')))\n",
    "print(\"S_tot after speciation: \" + str(final.get_composition(species=\"S\", units='molfrac')))\n",
    "print(\"\\n\")\n",
    "print(\"CO2_tot input: \" + str(myfluid.get_composition(species=\"CO2\", units='molfrac')))\n",
    "print(\"CO2_tot after speciation: \" + str(final.get_composition(species=\"CO2\", units='molfrac')))\n",
    "print(\"\\n\")\n",
    "print(\"H2O_tot input: \" + str(myfluid.get_composition(species=\"H2O\", units='molfrac')))\n",
    "print(\"H2O_tot after speciation: \" + str(final.get_composition(species=\"H2O\", units='molfrac')))\n",
    "print(\"\\n\")\n",
    "print(\"Input total: \" + str(sum(myfluid.get_composition(units='molfrac'))))\n",
    "print(\"Total after speciation: \" + str(final.get_composition(species=\"S\", units='molfrac') + \n",
    "                                       final.get_composition(species=\"CO2\", units='molfrac') +\n",
    "                                       final.get_composition(species=\"H2O\", units='molfrac')))"
   ]
  },
  {
   "cell_type": "code",
   "execution_count": 20,
   "id": "a71beb18",
   "metadata": {},
   "outputs": [
    {
     "name": "stdout",
     "output_type": "stream",
     "text": [
      "S_tot input: 0.05999999999999999\n",
      "S_tot after speciation: 0.06000039541598862\n",
      "\n",
      "\n",
      "C_tot input: 0.15\n",
      "C_tot after speciation: 0.15000001323924742\n",
      "\n",
      "\n",
      "H_tot input: 0.7900000000000001\n",
      "H_tot after speciation: 0.7899995913447642\n",
      "\n",
      "\n",
      "Input total: 1.0000000000000002\n",
      "Total after speciation: 0.6014199724576084\n",
      "H    0.79\n",
      "C    0.15\n",
      "S    0.06\n",
      "dtype: float64\n"
     ]
    }
   ],
   "source": [
    "# Now try and go from H, S, C inputs to H, S, C outputs\n",
    "# create a MagmaticFluid object with a simple gas composition\n",
    "myfluid = tv.MagmaticFluid(composition={'H':0.79, 'C': 0.15, 'S': 0.06}, units='molfrac', default_units='molfrac')\n",
    "\n",
    "# speciate given P, T, fO2 conditions\n",
    "specs = tv.calculate_speciation(sample=myfluid, pressure=1000, temperature=1000, fO2_buffer='QFM', fO2_delta=1).result\n",
    "\n",
    "# in molfraction space -- duplicating what works in calculate_fugacities()\n",
    "composition_molfrac = specs.get_composition(units='molfrac')\n",
    "\n",
    "# first get H, S, C tots\n",
    "XHtot = (composition_molfrac[\"H2\"] + composition_molfrac[\"H2O\"]*0.6666 +\n",
    "         composition_molfrac[\"H2S\"]*0.6666)\n",
    "XStot = (composition_molfrac[\"S2\"] + composition_molfrac[\"H2S\"]*0.3333 +\n",
    "         composition_molfrac[\"SO2\"]*0.3333)\n",
    "XCtot = (composition_molfrac[\"CO2\"]*0.3333 + composition_molfrac[\"CO\"]*0.5)\n",
    "XOtot = (composition_molfrac[\"H2O\"] * 0.3333 + composition_molfrac[\"SO2\"] * 0.6666 +\n",
    "         composition_molfrac[\"CO2\"] * 0.6666 + composition_molfrac[\"CO\"] * 0.5)\n",
    "\n",
    "# normalize H, S, C tots\n",
    "HCS_tots = tv.MagmaticFluid({\"H\": XHtot,\n",
    "                             \"S\": XStot,\n",
    "                             \"C\": XCtot},\n",
    "                             units='molfrac',\n",
    "                             default_units='molfrac',\n",
    "                             normalization='standard')\n",
    "\n",
    "print(\"S_tot input: \" + str(myfluid.get_composition(species=\"S\", units='molfrac')))\n",
    "print(\"S_tot after speciation: \" + str(HCS_tots.get_composition(species=\"S\", units='molfrac')))\n",
    "print(\"\\n\")\n",
    "print(\"C_tot input: \" + str(myfluid.get_composition(species=\"C\", units='molfrac')))\n",
    "print(\"C_tot after speciation: \" + str(HCS_tots.get_composition(species=\"C\")))\n",
    "print(\"\\n\")\n",
    "print(\"H_tot input: \" + str(myfluid.get_composition(species=\"H\", units='molfrac')))\n",
    "print(\"H_tot after speciation: \" + str(HCS_tots.get_composition(species=\"H\")))\n",
    "print(\"\\n\")\n",
    "print(\"Input total: \" + str(sum(myfluid.get_composition(units='molfrac'))))\n",
    "print(\"Total after speciation: \" + str(XStot + XCtot + XHtot))\n",
    "\n",
    "print(str(specs.get_simplified_fluid_composition(units='molfrac',\n",
    "                                                                          H_species='H',\n",
    "                                                                          C_species='C',\n",
    "                                                                          S_species='S')))"
   ]
  },
  {
   "cell_type": "code",
   "execution_count": null,
   "id": "ef8abcdc",
   "metadata": {},
   "outputs": [],
   "source": [
    "# in molfraction space\n",
    "spec_comp = specs.get_composition(units='molfrac')\n",
    "S_tot = (spec_comp['S2'] * 2 +\n",
    "         spec_comp['SO2'] +\n",
    "         spec_comp['H2S'])\n",
    "\n",
    "CO2_tot = (spec_comp['CO2'] +\n",
    "           spec_comp['CO'])\n",
    "\n",
    "H2O_tot = (spec_comp['H2O'] +\n",
    "           spec_comp['H2'] +\n",
    "           spec_comp['H2S'])\n",
    "\n",
    "recalcd_comp = tv.MagmaticFluid({\"S\": S_tot,\n",
    "                                 \"CO2\": CO2_tot,\n",
    "                                 \"H2O\": H2O_tot},\n",
    "                                 units='molfrac',\n",
    "                                 default_units='molfrac',\n",
    "                                 default_normalization='standard')\n",
    "S_tot = recalcd_comp.get_composition(species=\"S\")\n",
    "CO2_tot = recalcd_comp.get_composition(species=\"CO2\")\n",
    "H2O_tot = recalcd_comp.get_composition(species=\"H2O\")\n",
    "\n",
    "print(\"S_tot input: \" + str(myfluid.get_composition(species=\"S\", units='molfrac')))\n",
    "print(\"S_tot after speciation: \" + str(S_tot))\n",
    "print(\"\\n\")\n",
    "print(\"CO2_tot input: \" + str(myfluid.get_composition(species=\"CO2\", units='molfrac')))\n",
    "print(\"CO2_tot after speciation: \" + str(CO2_tot))\n",
    "print(\"\\n\")\n",
    "print(\"H2O_tot input: \" + str(myfluid.get_composition(species=\"H2O\", units='molfrac')))\n",
    "print(\"H2O_tot after speciation: \" + str(H2O_tot))\n",
    "print(\"\\n\")\n",
    "print(\"Input total: \" + str(sum(myfluid.get_composition(units='molfrac'))))\n",
    "print(\"Total after speciation: \" + str(S_tot + CO2_tot + H2O_tot))"
   ]
  },
  {
   "cell_type": "code",
   "execution_count": 6,
   "id": "7fe0168a",
   "metadata": {},
   "outputs": [
    {
     "data": {
      "text/plain": [
       "CO     2.317292e-02\n",
       "CO2    7.161369e+00\n",
       "H2     4.023587e-02\n",
       "H2O    9.184805e+01\n",
       "H2S    7.386837e-01\n",
       "S2     1.093991e-03\n",
       "SO2    1.873895e-01\n",
       "O2     1.835461e-11\n",
       "dtype: float64"
      ]
     },
     "execution_count": 6,
     "metadata": {},
     "output_type": "execute_result"
    }
   ],
   "source": [
    "specs.get_composition()"
   ]
  },
  {
   "cell_type": "code",
   "execution_count": 7,
   "id": "1229fe0f",
   "metadata": {},
   "outputs": [
    {
     "data": {
      "text/plain": [
       "CO     2.317295e-02\n",
       "CO2    7.161379e+00\n",
       "H2     4.023591e-02\n",
       "H2O    9.184813e+01\n",
       "H2S    7.386148e-01\n",
       "S2     1.093785e-03\n",
       "SO2    1.873719e-01\n",
       "O2     1.835462e-11\n",
       "dtype: float64"
      ]
     },
     "execution_count": 7,
     "metadata": {},
     "output_type": "execute_result"
    }
   ],
   "source": [
    "specs2 = tv.calculate_speciation(sample=specs, pressure=1000, temperature=1000, fO2_buffer='QFM', fO2_delta=1).result\n",
    "specs2.get_composition()"
   ]
  },
  {
   "cell_type": "code",
   "execution_count": 8,
   "id": "d6e0cd6d",
   "metadata": {},
   "outputs": [
    {
     "data": {
      "text/plain": [
       "CO     2.317298e-02\n",
       "CO2    7.161388e+00\n",
       "H2     4.023594e-02\n",
       "H2O    9.184821e+01\n",
       "H2S    7.385462e-01\n",
       "S2     1.093580e-03\n",
       "SO2    1.873544e-01\n",
       "O2     1.835463e-11\n",
       "dtype: float64"
      ]
     },
     "execution_count": 8,
     "metadata": {},
     "output_type": "execute_result"
    }
   ],
   "source": [
    "specs3 = tv.calculate_speciation(sample=specs2, pressure=1000, temperature=1000, fO2_buffer='QFM', fO2_delta=1).result\n",
    "specs3.get_composition()"
   ]
  },
  {
   "cell_type": "code",
   "execution_count": null,
   "id": "11cdcb6d",
   "metadata": {},
   "outputs": [],
   "source": [
    "specs3.get_simplified_fluid_composition(units='wtpercent')"
   ]
  },
  {
   "cell_type": "code",
   "execution_count": null,
   "id": "cd837ee1",
   "metadata": {},
   "outputs": [],
   "source": []
  }
 ],
 "metadata": {
  "kernelspec": {
   "display_name": "Python 3 (ipykernel)",
   "language": "python",
   "name": "python3"
  },
  "language_info": {
   "codemirror_mode": {
    "name": "ipython",
    "version": 3
   },
   "file_extension": ".py",
   "mimetype": "text/x-python",
   "name": "python",
   "nbconvert_exporter": "python",
   "pygments_lexer": "ipython3",
   "version": "3.9.7"
  }
 },
 "nbformat": 4,
 "nbformat_minor": 5
}

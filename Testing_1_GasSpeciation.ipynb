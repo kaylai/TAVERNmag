{
 "cells": [
  {
   "cell_type": "markdown",
   "id": "13f003c6",
   "metadata": {},
   "source": [
    "# Testing Main Functionality #1: Gas speciation\n",
    "\n",
    "## Goals\n",
    "1. Take in simplified fluid composition and speciate it given P, T, fO2 conditions\n",
    "2. Take in complex fluid composition and speciate it given P, T, fO2 conditions\n",
    "3. Ensure that an equivalent complex and simplified fluid give the same speciation results\n",
    "4. Ensure fO2 being held constant at user defined value when a fluid is speciated"
   ]
  },
  {
   "cell_type": "code",
   "execution_count": 3,
   "id": "f1b2b23c",
   "metadata": {},
   "outputs": [],
   "source": [
    "import tavernmag as tv"
   ]
  },
  {
   "cell_type": "code",
   "execution_count": 4,
   "id": "14eefa1b",
   "metadata": {},
   "outputs": [
    {
     "name": "stdout",
     "output_type": "stream",
     "text": [
      "\n",
      "\n",
      "spec_comp, input units\n",
      "CO     4.919336e-02\n",
      "CO2    1.520274e+01\n",
      "H2     3.395537e-02\n",
      "H2O    7.751130e+01\n",
      "H2S    5.595435e+00\n",
      "S2     8.003605e-02\n",
      "SO2    1.527344e+00\n",
      "O2     1.679701e-11\n",
      "dtype: float64\n"
     ]
    }
   ],
   "source": [
    "# create a MagmaticFluid object with a simple gas composition\n",
    "myfluid = tv.MagmaticFluid(composition={'H2O':79, 'CO2': 15, 'S': 6}, units='wtpercent', default_units='wtpercent')\n",
    "\n",
    "# speciate given P, T, fO2 conditions\n",
    "specs = tv.calculate_speciation(sample=myfluid, pressure=1000, temperature=1000, fO2_buffer='QFM', fO2_delta=1).result\n",
    "spec_comp = specs.get_composition()\n",
    "print(\"\\n\")\n",
    "print(\"spec_comp, input units\")\n",
    "print(spec_comp)"
   ]
  },
  {
   "cell_type": "code",
   "execution_count": 5,
   "id": "4bebe790",
   "metadata": {},
   "outputs": [
    {
     "name": "stdout",
     "output_type": "stream",
     "text": [
      "S_tot input: 0.03808524856648267\n",
      "S_tot after speciation: 0.037919328117160735\n",
      "\n",
      "\n",
      "CO2_tot input: 0.06937079614202833\n",
      "CO2_tot after speciation: 0.06927658241035987\n",
      "\n",
      "\n",
      "H2O_tot input: 0.8925439552914891\n",
      "H2O_tot after speciation: 0.8928040894724794\n",
      "\n",
      "\n",
      "Input total: 1.0000000000000002\n",
      "Total after speciation: 1.0\n"
     ]
    }
   ],
   "source": [
    "# # in wt% space\n",
    "# spec_comp = specs.get_composition(units='wtpercent')\n",
    "# S_tot = (spec_comp['S2'] * tv.core.oxideMass[\"S\"]/tv.core.oxideMass[\"S2\"] +\n",
    "#          spec_comp['SO2'] * tv.core.oxideMass[\"S\"]/tv.core.oxideMass[\"SO2\"] +\n",
    "#          spec_comp['H2S'] * tv.core.oxideMass[\"S\"]/tv.core.oxideMass[\"H2S\"]) # I'm so confused. Do I include this term?\n",
    "\n",
    "# # Am I just going crazy and I've calculated the \"tot\" values incorrectly in wt% space? I could try converting\n",
    "# # to molfraction and doing it mol-wise (e.g., SO2 is one mol S annd one mol O2...)\n",
    "\n",
    "# CO2_tot = (spec_comp['CO2'] +\n",
    "#            spec_comp['CO'] * tv.core.oxideMass[\"CO2\"]/tv.core.oxideMass[\"CO\"])\n",
    "\n",
    "# H2O_tot = (spec_comp['H2O'] +\n",
    "#            spec_comp['H2'] * tv.core.oxideMass[\"H2O\"]/tv.core.oxideMass[\"H2\"] +\n",
    "#            spec_comp['H2S'] * tv.core.oxideMass[\"H2O\"]/tv.core.oxideMass[\"H2S\"])\n",
    "\n",
    "# print(\"S_tot input: \" + str(myfluid.get_composition(species=\"S\")))\n",
    "# print(\"S_tot after speciation: \" + str(S_tot))\n",
    "# print(\"\\n\")\n",
    "# print(\"CO2_tot input: \" + str(myfluid.get_composition(species=\"CO2\")))\n",
    "# print(\"CO2_tot after speciation: \" + str(CO2_tot))\n",
    "# print(\"\\n\")\n",
    "# print(\"H2O_tot input: \" + str(myfluid.get_composition(species=\"H2O\")))\n",
    "# print(\"H2O_tot after speciation: \" + str(H2O_tot))\n",
    "# print(\"\\n\")\n",
    "# print(\"Input total: \" + str(sum(myfluid.get_composition())))\n",
    "# print(\"Total after speciation: \" + str(S_tot + CO2_tot + H2O_tot))\n",
    "\n",
    "# in molfraction space\n",
    "spec_comp = specs.get_composition(units='molfrac')\n",
    "S_tot = (spec_comp['S2'] * 2 +\n",
    "         spec_comp['SO2'] +\n",
    "         spec_comp['H2S'])\n",
    "\n",
    "CO2_tot = (spec_comp['CO2'] +\n",
    "           spec_comp['CO'])\n",
    "\n",
    "H2O_tot = (spec_comp['H2O'] +\n",
    "           spec_comp['H2'] +\n",
    "           spec_comp['H2S'])\n",
    "\n",
    "recalcd_comp = tv.MagmaticFluid({\"S\": S_tot,\n",
    "                                 \"CO2\": CO2_tot,\n",
    "                                 \"H2O\": H2O_tot},\n",
    "                                 units='molfrac',\n",
    "                                 default_units='molfrac',\n",
    "                                 default_normalization='standard')\n",
    "S_tot = recalcd_comp.get_composition(species=\"S\")\n",
    "CO2_tot = recalcd_comp.get_composition(species=\"CO2\")\n",
    "H2O_tot = recalcd_comp.get_composition(species=\"H2O\")\n",
    "\n",
    "print(\"S_tot input: \" + str(myfluid.get_composition(species=\"S\", units='molfrac')))\n",
    "print(\"S_tot after speciation: \" + str(S_tot))\n",
    "print(\"\\n\")\n",
    "print(\"CO2_tot input: \" + str(myfluid.get_composition(species=\"CO2\", units='molfrac')))\n",
    "print(\"CO2_tot after speciation: \" + str(CO2_tot))\n",
    "print(\"\\n\")\n",
    "print(\"H2O_tot input: \" + str(myfluid.get_composition(species=\"H2O\", units='molfrac')))\n",
    "print(\"H2O_tot after speciation: \" + str(H2O_tot))\n",
    "print(\"\\n\")\n",
    "print(\"Input total: \" + str(sum(myfluid.get_composition(units='molfrac'))))\n",
    "print(\"Total after speciation: \" + str(S_tot + CO2_tot + H2O_tot))"
   ]
  },
  {
   "cell_type": "code",
   "execution_count": 6,
   "id": "4c84194e",
   "metadata": {},
   "outputs": [
    {
     "name": "stdout",
     "output_type": "stream",
     "text": [
      "H2O    78.999994\n",
      "CO2    15.000007\n",
      "S       5.999999\n",
      "dtype: float64\n",
      "100.00000000000001\n"
     ]
    }
   ],
   "source": [
    "spec_simpl = specs.get_simplified_fluid_composition()\n",
    "print(spec_simpl)\n",
    "print(sum(spec_simpl))"
   ]
  },
  {
   "cell_type": "markdown",
   "id": "8b14c312",
   "metadata": {},
   "source": [
    "Fugacities"
   ]
  },
  {
   "cell_type": "code",
   "execution_count": 7,
   "id": "8a137233",
   "metadata": {},
   "outputs": [
    {
     "data": {
      "text/plain": [
       "{'CO': 0.972348617383240,\n",
       " 'CO2': 128.026283528372,\n",
       " 'H2': 6.2979978992,\n",
       " 'H2O': 1221.5309149875247,\n",
       " 'H2S': 58.247579333992356,\n",
       " 'O2': 1.286291018879933e-10,\n",
       " 'S2': 0.45409787711,\n",
       " 'SO2': 8.542068011858877}"
      ]
     },
     "execution_count": 7,
     "metadata": {},
     "output_type": "execute_result"
    }
   ],
   "source": [
    "# Fugacities\n",
    "fugs = tv.calculate_fugacities(sample=myfluid, pressure=1000, temperature=1000, fO2_buffer='QFM', fO2_delta=1,\n",
    "                               opt='gekko').result\n",
    "fugs"
   ]
  },
  {
   "cell_type": "markdown",
   "id": "a2b1182d",
   "metadata": {},
   "source": [
    "K values"
   ]
  },
  {
   "cell_type": "code",
   "execution_count": 8,
   "id": "566a25b1",
   "metadata": {},
   "outputs": [
    {
     "data": {
      "text/plain": [
       "{'CO2': 11609339.690689063,\n",
       " 'H2O': 17101426.28201502,\n",
       " 'H2S': 13.7246296563283,\n",
       " 'SO2': 98548280692.69196}"
      ]
     },
     "execution_count": 8,
     "metadata": {},
     "output_type": "execute_result"
    }
   ],
   "source": [
    "# K-vals\n",
    "K_vals = tv.calculate_equilibrium_constants(temperature=1000).result\n",
    "K_vals"
   ]
  },
  {
   "cell_type": "markdown",
   "id": "be4d75ef",
   "metadata": {},
   "source": [
    "Fugacity coefficients (gammas)"
   ]
  },
  {
   "cell_type": "code",
   "execution_count": 9,
   "id": "06af0784",
   "metadata": {},
   "outputs": [
    {
     "data": {
      "text/plain": [
       "{'CO': 1.2557199322943073,\n",
       " 'CO2': 1.1766812493927399,\n",
       " 'H2': 1.1871749799085225,\n",
       " 'H2O': 0.9013716131009993,\n",
       " 'H2S': 1.1270119924703847,\n",
       " 'O2': 1.1900211579833693,\n",
       " 'S2': 1.1551947347375644,\n",
       " 'SO2': 1.137584896298915}"
      ]
     },
     "execution_count": 9,
     "metadata": {},
     "output_type": "execute_result"
    }
   ],
   "source": [
    "# fugacity coefficients (gammas)\n",
    "\n",
    "gammas = tv.calculate_fugacity_coefficients(temperature=1000, pressure=1000).result\n",
    "gammas"
   ]
  },
  {
   "cell_type": "code",
   "execution_count": 10,
   "id": "194cfc04",
   "metadata": {},
   "outputs": [],
   "source": [
    "specs2 = tv.calculate_speciation(sample=specs, pressure=1000, temperature=1000, fO2_buffer='QFM', fO2_delta=1).result"
   ]
  },
  {
   "cell_type": "code",
   "execution_count": 11,
   "id": "bf6bf311",
   "metadata": {},
   "outputs": [
    {
     "data": {
      "text/plain": [
       "CO     4.919338e-02\n",
       "CO2    1.520275e+01\n",
       "H2     3.395537e-02\n",
       "H2O    7.751129e+01\n",
       "H2S    5.595434e+00\n",
       "S2     8.003603e-02\n",
       "SO2    1.527344e+00\n",
       "O2     1.679701e-11\n",
       "dtype: float64"
      ]
     },
     "execution_count": 11,
     "metadata": {},
     "output_type": "execute_result"
    }
   ],
   "source": [
    "specs2.get_composition()"
   ]
  },
  {
   "cell_type": "code",
   "execution_count": 12,
   "id": "3a0181e8",
   "metadata": {},
   "outputs": [
    {
     "data": {
      "text/plain": [
       "{'CO': 0.972349137277660,\n",
       " 'CO2': 128.026351981342,\n",
       " 'H2': 6.2979978166,\n",
       " 'H2O': 1221.5308989668056,\n",
       " 'H2S': 58.247571152148005,\n",
       " 'O2': 1.286291018879933e-10,\n",
       " 'S2': 0.45409776145,\n",
       " 'SO2': 8.542066924014495}"
      ]
     },
     "execution_count": 12,
     "metadata": {},
     "output_type": "execute_result"
    }
   ],
   "source": [
    "fugs2 = tv.calculate_fugacities(sample=specs, pressure=1000, temperature=1000, fO2_buffer='QFM', fO2_delta=1,\n",
    "                               opt='gekko').result\n",
    "fugs2"
   ]
  },
  {
   "cell_type": "code",
   "execution_count": 13,
   "id": "e239a6b8",
   "metadata": {},
   "outputs": [
    {
     "data": {
      "text/plain": [
       "H2O    78.999988\n",
       "CO2    15.000014\n",
       "S       5.999998\n",
       "dtype: float64"
      ]
     },
     "execution_count": 13,
     "metadata": {},
     "output_type": "execute_result"
    }
   ],
   "source": [
    "spec2_simpl = specs2.get_simplified_fluid_composition()\n",
    "spec2_simpl"
   ]
  },
  {
   "cell_type": "code",
   "execution_count": 14,
   "id": "b7438d17",
   "metadata": {},
   "outputs": [
    {
     "data": {
      "text/plain": [
       "CO     4.919340e-02\n",
       "CO2    1.520275e+01\n",
       "H2     3.395536e-02\n",
       "H2O    7.751129e+01\n",
       "H2S    5.595433e+00\n",
       "S2     8.003600e-02\n",
       "SO2    1.527344e+00\n",
       "O2     1.679701e-11\n",
       "dtype: float64"
      ]
     },
     "execution_count": 14,
     "metadata": {},
     "output_type": "execute_result"
    }
   ],
   "source": [
    "specs3 = tv.calculate_speciation(sample=specs2, pressure=1000, temperature=1000, fO2_buffer='QFM', fO2_delta=1).result\n",
    "specs3.get_composition()"
   ]
  },
  {
   "cell_type": "code",
   "execution_count": null,
   "id": "fe9367fa",
   "metadata": {},
   "outputs": [],
   "source": []
  },
  {
   "cell_type": "code",
   "execution_count": null,
   "id": "8f837c2d",
   "metadata": {},
   "outputs": [],
   "source": []
  },
  {
   "cell_type": "code",
   "execution_count": null,
   "id": "dfc27578",
   "metadata": {},
   "outputs": [],
   "source": []
  }
 ],
 "metadata": {
  "kernelspec": {
   "display_name": "Python 3.9.7 ('base')",
   "language": "python",
   "name": "python3"
  },
  "language_info": {
   "codemirror_mode": {
    "name": "ipython",
    "version": 3
   },
   "file_extension": ".py",
   "mimetype": "text/x-python",
   "name": "python",
   "nbconvert_exporter": "python",
   "pygments_lexer": "ipython3",
   "version": "3.9.7"
  },
  "vscode": {
   "interpreter": {
    "hash": "40d3a090f54c6569ab1632332b64b2c03c39dcf918b08424e98f38b5ae0af88f"
   }
  }
 },
 "nbformat": 4,
 "nbformat_minor": 5
}

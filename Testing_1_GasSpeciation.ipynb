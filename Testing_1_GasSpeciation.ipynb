{
 "cells": [
  {
   "cell_type": "markdown",
   "id": "e7bf7e3d",
   "metadata": {},
   "source": [
    "# Testing Main Functionality #1: Gas speciation\n",
    "\n",
    "## Goals\n",
    "1. Take in simplified gas composition and speciate it given P, T, fO2 conditions"
   ]
  },
  {
   "cell_type": "code",
   "execution_count": 1,
   "id": "f74fd72e",
   "metadata": {},
   "outputs": [],
   "source": [
    "import tavern as tv"
   ]
  },
  {
   "cell_type": "code",
   "execution_count": 2,
   "id": "9de2741d",
   "metadata": {},
   "outputs": [
    {
     "data": {
      "text/plain": [
       "CO     9.013480e-02\n",
       "CO2    2.785530e+01\n",
       "H2     1.249535e-02\n",
       "H2O    2.852365e+01\n",
       "H2S    2.029644e+01\n",
       "S2     7.909392e+00\n",
       "SO2    1.531258e+01\n",
       "O2     1.101413e-11\n",
       "dtype: float64"
      ]
     },
     "execution_count": 2,
     "metadata": {},
     "output_type": "execute_result"
    }
   ],
   "source": [
    "# create a MagmaticFluid object with a simple gas composition\n",
    "myfluid = tv.MagmaticFluid(composition={'H2O':49, 'CO2': 35, 'S': 16}, default_units='wtpercent')\n",
    "\n",
    "# speciate given P, T, fO2 conditions\n",
    "specs = tv.calculate_speciation(sample=myfluid, pressure=1000, temperature=1000, fO2_buffer='QFM', fO2_delta=1).result\n",
    "spec_comp = specs.get_composition()\n",
    "spec_comp"
   ]
  },
  {
   "cell_type": "code",
   "execution_count": 3,
   "id": "7bd2ed3b",
   "metadata": {},
   "outputs": [
    {
     "data": {
      "text/plain": [
       "30.703839624481738"
      ]
     },
     "execution_count": 3,
     "metadata": {},
     "output_type": "execute_result"
    }
   ],
   "source": [
    "(spec_comp['S2'] * tv.core.oxideMass[\"S\"]/tv.core.oxideMass[\"S2\"] +\n",
    " spec_comp['SO2'] * tv.core.oxideMass[\"S\"]/tv.core.oxideMass[\"SO2\"] +\n",
    " spec_comp['H2S'] * tv.core.oxideMass[\"S\"]/tv.core.oxideMass[\"H2S\"])"
   ]
  },
  {
   "cell_type": "code",
   "execution_count": 4,
   "id": "55e6c511",
   "metadata": {},
   "outputs": [
    {
     "data": {
      "text/plain": [
       "H2O    32.766251\n",
       "CO2    32.100561\n",
       "S      35.133188\n",
       "dtype: float64"
      ]
     },
     "execution_count": 4,
     "metadata": {},
     "output_type": "execute_result"
    }
   ],
   "source": [
    "spec_simpl = specs.get_simplified_fluid_composition()\n",
    "spec_simpl"
   ]
  },
  {
   "cell_type": "code",
   "execution_count": 5,
   "id": "d0b06ab3",
   "metadata": {},
   "outputs": [
    {
     "data": {
      "text/plain": [
       "{'CO': 1.75163077835761,\n",
       " 'CO2': 230.632074399965,\n",
       " 'H2': 2.2786474518,\n",
       " 'H2O': 441.9560551274255,\n",
       " 'H2S': 207.72964600535423,\n",
       " 'O2': 1.286291018879933e-10,\n",
       " 'S2': 44.120600946,\n",
       " 'SO2': 84.19940038120089}"
      ]
     },
     "execution_count": 5,
     "metadata": {},
     "output_type": "execute_result"
    }
   ],
   "source": [
    "# Gammas\n",
    "fugs = tv.calculate_fugacities(sample=myfluid, pressure=1000, temperature=1000, fO2_buffer='QFM', fO2_delta=1,\n",
    "                               opt='gekko').result\n",
    "fugs"
   ]
  },
  {
   "cell_type": "code",
   "execution_count": 6,
   "id": "10cb7260",
   "metadata": {},
   "outputs": [
    {
     "data": {
      "text/plain": [
       "{'CO2': 11609339.690689063,\n",
       " 'H2O': 17101426.28201502,\n",
       " 'H2S': 13.7246296563283,\n",
       " 'SO2': 98548280692.69196}"
      ]
     },
     "execution_count": 6,
     "metadata": {},
     "output_type": "execute_result"
    }
   ],
   "source": [
    "# K-vals\n",
    "K_vals = tv.calculate_equilibrium_constants(temperature=1000).result\n",
    "K_vals"
   ]
  },
  {
   "cell_type": "code",
   "execution_count": 7,
   "id": "0e4b2b89",
   "metadata": {},
   "outputs": [],
   "source": [
    "# fugacities"
   ]
  },
  {
   "cell_type": "code",
   "execution_count": 8,
   "id": "65dd0f42",
   "metadata": {},
   "outputs": [],
   "source": [
    "specs2 = tv.calculate_speciation(sample=specs, pressure=1000, temperature=1000, fO2_buffer='QFM', fO2_delta=1).result"
   ]
  },
  {
   "cell_type": "code",
   "execution_count": 9,
   "id": "81fe310a",
   "metadata": {},
   "outputs": [
    {
     "data": {
      "text/plain": [
       "CO     6.625373e-02\n",
       "CO2    2.047508e+01\n",
       "H2     5.116192e-03\n",
       "H2O    1.167894e+01\n",
       "H2S    1.774616e+01\n",
       "S2     2.623952e+01\n",
       "SO2    2.378893e+01\n",
       "O2     8.370886e-12\n",
       "dtype: float64"
      ]
     },
     "execution_count": 9,
     "metadata": {},
     "output_type": "execute_result"
    }
   ],
   "source": [
    "specs2.get_composition()"
   ]
  },
  {
   "cell_type": "code",
   "execution_count": 10,
   "id": "483283ea",
   "metadata": {},
   "outputs": [
    {
     "data": {
      "text/plain": [
       "H2O    15.831577\n",
       "CO2    27.843868\n",
       "S      56.324555\n",
       "dtype: float64"
      ]
     },
     "execution_count": 10,
     "metadata": {},
     "output_type": "execute_result"
    }
   ],
   "source": [
    "spec2_simpl = specs2.get_simplified_fluid_composition()\n",
    "spec2_simpl"
   ]
  },
  {
   "cell_type": "code",
   "execution_count": 11,
   "id": "72949344",
   "metadata": {},
   "outputs": [
    {
     "data": {
      "text/plain": [
       "CO     4.760210e-02\n",
       "CO2    1.471098e+01\n",
       "H2     1.657730e-03\n",
       "H2O    3.784167e+00\n",
       "H2S    8.796780e+00\n",
       "S2     4.562257e+01\n",
       "SO2    2.703625e+01\n",
       "O2     6.706009e-12\n",
       "dtype: float64"
      ]
     },
     "execution_count": 11,
     "metadata": {},
     "output_type": "execute_result"
    }
   ],
   "source": [
    "specs3 = tv.calculate_speciation(sample=specs2, pressure=1000, temperature=1000, fO2_buffer='QFM', fO2_delta=1).result\n",
    "specs3.get_composition()"
   ]
  },
  {
   "cell_type": "code",
   "execution_count": null,
   "id": "6faf3b6f",
   "metadata": {},
   "outputs": [],
   "source": []
  }
 ],
 "metadata": {
  "kernelspec": {
   "display_name": "Python 3 (ipykernel)",
   "language": "python",
   "name": "python3"
  },
  "language_info": {
   "codemirror_mode": {
    "name": "ipython",
    "version": 3
   },
   "file_extension": ".py",
   "mimetype": "text/x-python",
   "name": "python",
   "nbconvert_exporter": "python",
   "pygments_lexer": "ipython3",
   "version": "3.9.7"
  }
 },
 "nbformat": 4,
 "nbformat_minor": 5
}
